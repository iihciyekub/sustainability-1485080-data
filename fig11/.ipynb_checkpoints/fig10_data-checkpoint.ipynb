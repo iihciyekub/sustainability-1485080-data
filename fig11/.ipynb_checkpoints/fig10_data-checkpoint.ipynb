{
 "cells": [
  {
   "cell_type": "markdown",
   "metadata": {},
   "source": [
    "|      |      | \n",
    "| ---- | ---- | \n",
    "| Journal:|Sustainability (ISSN 2071-1050)|\n",
    "|Manuscript ID:| sustainability-1485080|\n",
    "|Type:|Article|\n",
    "|Title:|NEVs Supply Chain Coordination with Financial Constraint and Demand Uncertainty|\n",
    "|manuscripts:|P.11 - figure 11. Data generation code|\n",
    "|Code authors:|Yongjian Li$^*$ |\n",
    "|Last modify:|2021-01-12|\n",
    "|version:|Python 3.6.5, sympy >= 1.3|"
   ]
  },
  {
   "cell_type": "code",
   "execution_count": 1,
   "metadata": {
    "ExecuteTime": {
     "end_time": "2022-01-12T11:18:01.925562Z",
     "start_time": "2022-01-12T11:18:00.303132Z"
    }
   },
   "outputs": [
    {
     "data": {
      "text/plain": [
       "'1.9'"
      ]
     },
     "execution_count": 1,
     "metadata": {},
     "output_type": "execute_result"
    }
   ],
   "source": [
    "from sympy import *\n",
    "from sympy.stats import *\n",
    "import numpy as np\n",
    "import pandas as pd\n",
    "# init_printing(use_unicode=True)\n",
    "import sympy\n",
    "sympy.__version__"
   ]
  },
  {
   "cell_type": "code",
   "execution_count": 2,
   "metadata": {
    "ExecuteTime": {
     "end_time": "2022-01-12T11:18:01.941518Z",
     "start_time": "2022-01-12T11:18:01.929558Z"
    }
   },
   "outputs": [],
   "source": [
    "p, w, c, s, B, b, r, alpha, theta, q, a, x, r, mu, sigma, y = symbols(\n",
    "    \"p,w,c,s,B,b,r,alpha,theta,q,a,x,r,mu,sigma,y\")"
   ]
  },
  {
   "cell_type": "code",
   "execution_count": 3,
   "metadata": {
    "ExecuteTime": {
     "end_time": "2022-01-12T11:18:01.957476Z",
     "start_time": "2022-01-12T11:18:01.945510Z"
    }
   },
   "outputs": [],
   "source": [
    "# Initial parameter values\n",
    "parameter = {p: 10, c: 4, s: 3, w: 6, theta: 0.8, b: 3, B: 100, r: 0.05,\n",
    "             mu: 100, sigma: 100}"
   ]
  },
  {
   "cell_type": "markdown",
   "metadata": {},
   "source": [
    "#### (see manuscript P(8) figure 8.)\n",
    "\n",
    "\n",
    "\\begin{align}\n",
    "&F^{-1}(\\alpha) \\\\\n",
    "&\\tilde{\\pi}(\\tilde{q}^c) =q(p-c)-(p-s) \\int_{0}^{q} F(x) d x-(c q-B)^+ r\n",
    "\\end{align}\n",
    "\n",
    "\n"
   ]
  },
  {
   "cell_type": "markdown",
   "metadata": {},
   "source": [
    "- Suppose X is normally distributed with $\\mu=100$,$\\sigma=100$ \n",
    "- CDF,exp1: $F(x) = \\alpha$"
   ]
  },
  {
   "cell_type": "code",
   "execution_count": 4,
   "metadata": {
    "ExecuteTime": {
     "end_time": "2022-01-12T11:18:03.491550Z",
     "start_time": "2022-01-12T11:18:03.172032Z"
    }
   },
   "outputs": [
    {
     "data": {
      "text/latex": [
       "$\\displaystyle \\frac{\\operatorname{erf}{\\left(\\frac{\\sqrt{2} \\left(x - 100\\right)}{200} \\right)}}{2} + \\frac{1}{2} = \\alpha$"
      ],
      "text/plain": [
       "Eq(erf(sqrt(2)*(x - 100)/200)/2 + 1/2, alpha)"
      ]
     },
     "execution_count": 4,
     "metadata": {},
     "output_type": "execute_result"
    }
   ],
   "source": [
    "X = Normal(x, mu, sigma).subs(parameter)\n",
    "exp1 = Eq(cdf(X)(x), alpha)\n",
    "exp1"
   ]
  },
  {
   "cell_type": "markdown",
   "metadata": {},
   "source": [
    "- inverse exp1: $F^{-1}(\\alpha) = x ,\\quad \\{0\\leqslant \\alpha \\leqslant 1\\}$"
   ]
  },
  {
   "cell_type": "code",
   "execution_count": 5,
   "metadata": {
    "ExecuteTime": {
     "end_time": "2022-01-12T11:18:03.992250Z",
     "start_time": "2022-01-12T11:18:03.838026Z"
    }
   },
   "outputs": [
    {
     "data": {
      "text/latex": [
       "$\\displaystyle 100 \\sqrt{2} \\operatorname{erfinv}{\\left(2 \\alpha - 1 \\right)} + 100$"
      ],
      "text/plain": [
       "100*sqrt(2)*erfinv(2*alpha - 1) + 100"
      ]
     },
     "execution_count": 5,
     "metadata": {},
     "output_type": "execute_result"
    }
   ],
   "source": [
    "i_cdf = solve(exp1, x)[0]\n",
    "i_cdf"
   ]
  },
  {
   "cell_type": "code",
   "execution_count": 6,
   "metadata": {
    "ExecuteTime": {
     "end_time": "2022-01-12T11:18:06.258211Z",
     "start_time": "2022-01-12T11:18:04.657200Z"
    }
   },
   "outputs": [
    {
     "data": {
      "text/html": [
       "<div>\n",
       "<style scoped>\n",
       "    .dataframe tbody tr th:only-of-type {\n",
       "        vertical-align: middle;\n",
       "    }\n",
       "\n",
       "    .dataframe tbody tr th {\n",
       "        vertical-align: top;\n",
       "    }\n",
       "\n",
       "    .dataframe thead th {\n",
       "        text-align: right;\n",
       "    }\n",
       "</style>\n",
       "<table border=\"1\" class=\"dataframe\">\n",
       "  <thead>\n",
       "    <tr style=\"text-align: right;\">\n",
       "      <th></th>\n",
       "      <th>x_0</th>\n",
       "      <th>f(x)</th>\n",
       "    </tr>\n",
       "  </thead>\n",
       "  <tbody>\n",
       "    <tr>\n",
       "      <th>0</th>\n",
       "      <td>0.001</td>\n",
       "      <td>-209</td>\n",
       "    </tr>\n",
       "    <tr>\n",
       "      <th>1</th>\n",
       "      <td>0.002</td>\n",
       "      <td>-187</td>\n",
       "    </tr>\n",
       "    <tr>\n",
       "      <th>2</th>\n",
       "      <td>0.003</td>\n",
       "      <td>-174</td>\n",
       "    </tr>\n",
       "    <tr>\n",
       "      <th>3</th>\n",
       "      <td>0.004</td>\n",
       "      <td>-165</td>\n",
       "    </tr>\n",
       "    <tr>\n",
       "      <th>4</th>\n",
       "      <td>0.005</td>\n",
       "      <td>-157</td>\n",
       "    </tr>\n",
       "    <tr>\n",
       "      <th>...</th>\n",
       "      <td>...</td>\n",
       "      <td>...</td>\n",
       "    </tr>\n",
       "    <tr>\n",
       "      <th>422</th>\n",
       "      <td>0.995</td>\n",
       "      <td>357</td>\n",
       "    </tr>\n",
       "    <tr>\n",
       "      <th>423</th>\n",
       "      <td>0.996</td>\n",
       "      <td>365</td>\n",
       "    </tr>\n",
       "    <tr>\n",
       "      <th>424</th>\n",
       "      <td>0.997</td>\n",
       "      <td>374</td>\n",
       "    </tr>\n",
       "    <tr>\n",
       "      <th>425</th>\n",
       "      <td>0.998</td>\n",
       "      <td>387</td>\n",
       "    </tr>\n",
       "    <tr>\n",
       "      <th>426</th>\n",
       "      <td>0.999</td>\n",
       "      <td>409</td>\n",
       "    </tr>\n",
       "  </tbody>\n",
       "</table>\n",
       "<p>427 rows × 2 columns</p>\n",
       "</div>"
      ],
      "text/plain": [
       "       x_0  f(x)\n",
       "0    0.001  -209\n",
       "1    0.002  -187\n",
       "2    0.003  -174\n",
       "3    0.004  -165\n",
       "4    0.005  -157\n",
       "..     ...   ...\n",
       "422  0.995   357\n",
       "423  0.996   365\n",
       "424  0.997   374\n",
       "425  0.998   387\n",
       "426  0.999   409\n",
       "\n",
       "[427 rows x 2 columns]"
      ]
     },
     "execution_count": 6,
     "metadata": {},
     "output_type": "execute_result"
    }
   ],
   "source": [
    "# Convert a SymPy expression into a function that allows for fast numeric evaluation.\n",
    "f = lambdify(alpha, i_cdf, modules=['numpy', 'sympy'])\n",
    "\n",
    "x_0 = [i/1000 for i in range(1, 1000)]\n",
    "\n",
    "dt = {\n",
    "    \"x_0\": x_0,\n",
    "}\n",
    "\n",
    "df = pd.DataFrame(dt)\n",
    "df['f(x)'] = df['x_0'].map(f)\n",
    "df1 = df.copy()\n",
    "df1['f(x)'] = df1['f(x)'].map(int)\n",
    "df1 = df1.drop_duplicates(subset=['f(x)']).reset_index(drop=True).copy()\n",
    "df1"
   ]
  },
  {
   "cell_type": "code",
   "execution_count": 7,
   "metadata": {
    "ExecuteTime": {
     "end_time": "2022-01-12T11:18:06.319849Z",
     "start_time": "2022-01-12T11:18:06.260011Z"
    }
   },
   "outputs": [
    {
     "data": {
      "text/html": [
       "<div>\n",
       "<style scoped>\n",
       "    .dataframe tbody tr th:only-of-type {\n",
       "        vertical-align: middle;\n",
       "    }\n",
       "\n",
       "    .dataframe tbody tr th {\n",
       "        vertical-align: top;\n",
       "    }\n",
       "\n",
       "    .dataframe thead th {\n",
       "        text-align: right;\n",
       "    }\n",
       "</style>\n",
       "<table border=\"1\" class=\"dataframe\">\n",
       "  <thead>\n",
       "    <tr style=\"text-align: right;\">\n",
       "      <th></th>\n",
       "      <th>x_0</th>\n",
       "      <th>f(x)</th>\n",
       "    </tr>\n",
       "  </thead>\n",
       "  <tbody>\n",
       "    <tr>\n",
       "      <th>113</th>\n",
       "      <td>0.157</td>\n",
       "      <td>0</td>\n",
       "    </tr>\n",
       "  </tbody>\n",
       "</table>\n",
       "</div>"
      ],
      "text/plain": [
       "       x_0  f(x)\n",
       "113  0.157     0"
      ]
     },
     "execution_count": 7,
     "metadata": {},
     "output_type": "execute_result"
    }
   ],
   "source": [
    "df1.query(\"`f(x)`==0\")"
   ]
  },
  {
   "cell_type": "code",
   "execution_count": 8,
   "metadata": {
    "ExecuteTime": {
     "end_time": "2022-01-12T11:18:06.803672Z",
     "start_time": "2022-01-12T11:18:06.800549Z"
    }
   },
   "outputs": [],
   "source": [
    "# df1.iloc[::10].to_csv(\"inverse(CDF)\",index=None,sep='\\t')"
   ]
  },
  {
   "cell_type": "code",
   "execution_count": null,
   "metadata": {},
   "outputs": [],
   "source": []
  },
  {
   "cell_type": "code",
   "execution_count": null,
   "metadata": {},
   "outputs": [],
   "source": []
  },
  {
   "cell_type": "code",
   "execution_count": null,
   "metadata": {},
   "outputs": [],
   "source": []
  },
  {
   "cell_type": "code",
   "execution_count": null,
   "metadata": {},
   "outputs": [],
   "source": []
  },
  {
   "cell_type": "code",
   "execution_count": null,
   "metadata": {},
   "outputs": [],
   "source": []
  },
  {
   "cell_type": "code",
   "execution_count": 44,
   "metadata": {
    "ExecuteTime": {
     "end_time": "2022-01-12T09:54:40.670045Z",
     "start_time": "2022-01-12T09:54:40.654122Z"
    }
   },
   "outputs": [
    {
     "data": {
      "text/latex": [
       "$\\displaystyle \\frac{B \\left(r + 1\\right) + x \\left(p - s\\right)}{c \\left(r + 1\\right) - s}$"
      ],
      "text/plain": [
       "(B*(r + 1) + x*(p - s))/(c*(r + 1) - s)"
      ]
     },
     "execution_count": 44,
     "metadata": {},
     "output_type": "execute_result"
    }
   ],
   "source": [
    "expr1 = ((p-s) *x +B*(1+r))/(c*(1+r)-s)\n",
    "expr1"
   ]
  },
  {
   "cell_type": "code",
   "execution_count": 45,
   "metadata": {
    "ExecuteTime": {
     "end_time": "2022-01-12T09:55:28.733054Z",
     "start_time": "2022-01-12T09:55:28.688045Z"
    }
   },
   "outputs": [
    {
     "data": {
      "text/html": [
       "<div>\n",
       "<style scoped>\n",
       "    .dataframe tbody tr th:only-of-type {\n",
       "        vertical-align: middle;\n",
       "    }\n",
       "\n",
       "    .dataframe tbody tr th {\n",
       "        vertical-align: top;\n",
       "    }\n",
       "\n",
       "    .dataframe thead th {\n",
       "        text-align: right;\n",
       "    }\n",
       "</style>\n",
       "<table border=\"1\" class=\"dataframe\">\n",
       "  <thead>\n",
       "    <tr style=\"text-align: right;\">\n",
       "      <th></th>\n",
       "      <th>x_0</th>\n",
       "      <th>f(x)</th>\n",
       "    </tr>\n",
       "  </thead>\n",
       "  <tbody>\n",
       "    <tr>\n",
       "      <th>0</th>\n",
       "      <td>0.001</td>\n",
       "      <td>-1131.802179</td>\n",
       "    </tr>\n",
       "    <tr>\n",
       "      <th>1</th>\n",
       "      <td>0.002</td>\n",
       "      <td>-1008.094348</td>\n",
       "    </tr>\n",
       "    <tr>\n",
       "      <th>2</th>\n",
       "      <td>0.003</td>\n",
       "      <td>-932.039142</td>\n",
       "    </tr>\n",
       "    <tr>\n",
       "      <th>3</th>\n",
       "      <td>0.004</td>\n",
       "      <td>-876.207388</td>\n",
       "    </tr>\n",
       "    <tr>\n",
       "      <th>4</th>\n",
       "      <td>0.005</td>\n",
       "      <td>-831.733760</td>\n",
       "    </tr>\n",
       "    <tr>\n",
       "      <th>...</th>\n",
       "      <td>...</td>\n",
       "      <td>...</td>\n",
       "    </tr>\n",
       "    <tr>\n",
       "      <th>994</th>\n",
       "      <td>0.995</td>\n",
       "      <td>2173.400427</td>\n",
       "    </tr>\n",
       "    <tr>\n",
       "      <th>995</th>\n",
       "      <td>0.996</td>\n",
       "      <td>2217.874055</td>\n",
       "    </tr>\n",
       "    <tr>\n",
       "      <th>996</th>\n",
       "      <td>0.997</td>\n",
       "      <td>2273.705808</td>\n",
       "    </tr>\n",
       "    <tr>\n",
       "      <th>997</th>\n",
       "      <td>0.998</td>\n",
       "      <td>2349.761014</td>\n",
       "    </tr>\n",
       "    <tr>\n",
       "      <th>998</th>\n",
       "      <td>0.999</td>\n",
       "      <td>2473.468845</td>\n",
       "    </tr>\n",
       "  </tbody>\n",
       "</table>\n",
       "<p>999 rows × 2 columns</p>\n",
       "</div>"
      ],
      "text/plain": [
       "       x_0         f(x)\n",
       "0    0.001 -1131.802179\n",
       "1    0.002 -1008.094348\n",
       "2    0.003  -932.039142\n",
       "3    0.004  -876.207388\n",
       "4    0.005  -831.733760\n",
       "..     ...          ...\n",
       "994  0.995  2173.400427\n",
       "995  0.996  2217.874055\n",
       "996  0.997  2273.705808\n",
       "997  0.998  2349.761014\n",
       "998  0.999  2473.468845\n",
       "\n",
       "[999 rows x 2 columns]"
      ]
     },
     "execution_count": 45,
     "metadata": {},
     "output_type": "execute_result"
    }
   ],
   "source": [
    "f2 = lambdify(x, expr1.subs(parameter), modules=['numpy', 'sympy'])\n",
    "\n",
    "piqc = df.copy()\n",
    "piqc['f(x)'] = piqc['f(x)'].map(float)\n",
    "piqc['f(x)'] = piqc['f(x)'].map(f2)\n",
    "piqc\n"
   ]
  },
  {
   "cell_type": "code",
   "execution_count": null,
   "metadata": {},
   "outputs": [],
   "source": []
  },
  {
   "cell_type": "code",
   "execution_count": null,
   "metadata": {},
   "outputs": [],
   "source": []
  },
  {
   "cell_type": "code",
   "execution_count": null,
   "metadata": {},
   "outputs": [],
   "source": []
  },
  {
   "cell_type": "code",
   "execution_count": null,
   "metadata": {},
   "outputs": [],
   "source": []
  },
  {
   "cell_type": "markdown",
   "metadata": {},
   "source": [
    "$\\tilde{\\pi}(\\tilde{q}^c) =q(p-c)-(p-s) \\int_{0}^{q} F(x) d x-(c q-B)^+ r$"
   ]
  },
  {
   "cell_type": "code",
   "execution_count": 29,
   "metadata": {
    "ExecuteTime": {
     "end_time": "2022-01-12T09:47:05.081149Z",
     "start_time": "2022-01-12T09:47:04.770456Z"
    }
   },
   "outputs": [
    {
     "data": {
      "text/latex": [
       "$\\displaystyle q \\left(- c + p\\right) - r \\max\\left(0, - B + c q\\right) - \\left(p - s\\right) \\left(\\frac{q \\operatorname{erf}{\\left(\\frac{\\sqrt{2} q}{200} - \\frac{\\sqrt{2}}{2} \\right)}}{2} + \\frac{q}{2} + \\frac{50 \\sqrt{2} e^{\\frac{q}{100}} e^{- \\frac{q^{2}}{20000}}}{\\sqrt{\\pi} e^{\\frac{1}{2}}} - 50 \\operatorname{erf}{\\left(\\frac{\\sqrt{2} q}{200} - \\frac{\\sqrt{2}}{2} \\right)} - 50 \\operatorname{erf}{\\left(\\frac{\\sqrt{2}}{2} \\right)} - \\frac{50 \\sqrt{2}}{\\sqrt{\\pi} e^{\\frac{1}{2}}}\\right)$"
      ],
      "text/plain": [
       "q*(-c + p) - r*Max(0, -B + c*q) - (p - s)*(q*erf(sqrt(2)*q/200 - sqrt(2)/2)/2 + q/2 + 50*sqrt(2)*exp(-1/2)*exp(q/100)*exp(-q**2/20000)/sqrt(pi) - 50*erf(sqrt(2)*q/200 - sqrt(2)/2) - 50*erf(sqrt(2)/2) - 50*sqrt(2)*exp(-1/2)/sqrt(pi))"
      ]
     },
     "execution_count": 29,
     "metadata": {},
     "output_type": "execute_result"
    }
   ],
   "source": [
    "pic = q*(p-c) - (p-s)*integrate(cdf(X)(x),(x,0,q))- Max(0,(c*q-B))*r\n",
    "pic"
   ]
  },
  {
   "cell_type": "code",
   "execution_count": 30,
   "metadata": {
    "ExecuteTime": {
     "end_time": "2022-01-12T09:47:05.189975Z",
     "start_time": "2022-01-12T09:47:05.117116Z"
    }
   },
   "outputs": [
    {
     "data": {
      "text/latex": [
       "$\\displaystyle - 3.5 q \\operatorname{erf}{\\left(\\frac{\\sqrt{2} q}{200} - \\frac{\\sqrt{2}}{2} \\right)} + 2.5 q - 169.379 e^{\\frac{q}{100}} e^{- \\frac{q^{2}}{20000}} + 350.0 \\operatorname{erf}{\\left(\\frac{\\sqrt{2} q}{200} - \\frac{\\sqrt{2}}{2} \\right)} - 0.05 \\max\\left(0, 4.0 q - 100.0\\right) + 408.321$"
      ],
      "text/plain": [
       "-3.5*q*erf(sqrt(2)*q/200 - sqrt(2)/2) + 2.5*q - 169.379*exp(q/100)*exp(-q**2/20000) + 350.0*erf(sqrt(2)*q/200 - sqrt(2)/2) - 0.05*Max(0, 4.0*q - 100.0) + 408.321"
      ]
     },
     "execution_count": 30,
     "metadata": {},
     "output_type": "execute_result"
    }
   ],
   "source": [
    "pic =pic.subs(parameter).evalf(6)\n",
    "pic"
   ]
  },
  {
   "cell_type": "code",
   "execution_count": 40,
   "metadata": {
    "ExecuteTime": {
     "end_time": "2022-01-12T09:48:34.361854Z",
     "start_time": "2022-01-12T09:48:34.345830Z"
    }
   },
   "outputs": [
    {
     "data": {
      "text/latex": [
       "$\\displaystyle 272.0$"
      ],
      "text/plain": [
       "272."
      ]
     },
     "execution_count": 40,
     "metadata": {},
     "output_type": "execute_result"
    }
   ],
   "source": [
    "pic.subs({q:409}).evalf(3)"
   ]
  },
  {
   "cell_type": "code",
   "execution_count": 46,
   "metadata": {
    "ExecuteTime": {
     "end_time": "2022-01-12T09:55:48.153511Z",
     "start_time": "2022-01-12T09:55:46.705626Z"
    }
   },
   "outputs": [
    {
     "data": {
      "text/html": [
       "<div>\n",
       "<style scoped>\n",
       "    .dataframe tbody tr th:only-of-type {\n",
       "        vertical-align: middle;\n",
       "    }\n",
       "\n",
       "    .dataframe tbody tr th {\n",
       "        vertical-align: top;\n",
       "    }\n",
       "\n",
       "    .dataframe thead th {\n",
       "        text-align: right;\n",
       "    }\n",
       "</style>\n",
       "<table border=\"1\" class=\"dataframe\">\n",
       "  <thead>\n",
       "    <tr style=\"text-align: right;\">\n",
       "      <th></th>\n",
       "      <th>x_0</th>\n",
       "      <th>f(x)</th>\n",
       "    </tr>\n",
       "  </thead>\n",
       "  <tbody>\n",
       "    <tr>\n",
       "      <th>0</th>\n",
       "      <td>0.001</td>\n",
       "      <td>-6732.49207158734</td>\n",
       "    </tr>\n",
       "    <tr>\n",
       "      <th>1</th>\n",
       "      <td>0.002</td>\n",
       "      <td>-5990.24508683419</td>\n",
       "    </tr>\n",
       "    <tr>\n",
       "      <th>2</th>\n",
       "      <td>0.003</td>\n",
       "      <td>-5533.91384905747</td>\n",
       "    </tr>\n",
       "    <tr>\n",
       "      <th>3</th>\n",
       "      <td>0.004</td>\n",
       "      <td>-5198.92332765768</td>\n",
       "    </tr>\n",
       "    <tr>\n",
       "      <th>4</th>\n",
       "      <td>0.005</td>\n",
       "      <td>-4932.08156242115</td>\n",
       "    </tr>\n",
       "    <tr>\n",
       "      <th>...</th>\n",
       "      <td>...</td>\n",
       "      <td>...</td>\n",
       "    </tr>\n",
       "    <tr>\n",
       "      <th>994</th>\n",
       "      <td>0.995</td>\n",
       "      <td>-1844.75951248423</td>\n",
       "    </tr>\n",
       "    <tr>\n",
       "      <th>995</th>\n",
       "      <td>0.996</td>\n",
       "      <td>-1898.12786553154</td>\n",
       "    </tr>\n",
       "    <tr>\n",
       "      <th>996</th>\n",
       "      <td>0.997</td>\n",
       "      <td>-1965.12596981149</td>\n",
       "    </tr>\n",
       "    <tr>\n",
       "      <th>997</th>\n",
       "      <td>0.998</td>\n",
       "      <td>-2056.39221736684</td>\n",
       "    </tr>\n",
       "    <tr>\n",
       "      <th>998</th>\n",
       "      <td>0.999</td>\n",
       "      <td>-2204.84161431747</td>\n",
       "    </tr>\n",
       "  </tbody>\n",
       "</table>\n",
       "<p>999 rows × 2 columns</p>\n",
       "</div>"
      ],
      "text/plain": [
       "       x_0               f(x)\n",
       "0    0.001  -6732.49207158734\n",
       "1    0.002  -5990.24508683419\n",
       "2    0.003  -5533.91384905747\n",
       "3    0.004  -5198.92332765768\n",
       "4    0.005  -4932.08156242115\n",
       "..     ...                ...\n",
       "994  0.995  -1844.75951248423\n",
       "995  0.996  -1898.12786553154\n",
       "996  0.997  -1965.12596981149\n",
       "997  0.998  -2056.39221736684\n",
       "998  0.999  -2204.84161431747\n",
       "\n",
       "[999 rows x 2 columns]"
      ]
     },
     "execution_count": 46,
     "metadata": {},
     "output_type": "execute_result"
    }
   ],
   "source": [
    "f3 = lambdify(q, pic, modules=['numpy', 'sympy'])\n",
    "\n",
    "\n",
    "piqc['f(x)'] = piqc['f(x)'].map(f3)\n",
    "piqc"
   ]
  },
  {
   "cell_type": "code",
   "execution_count": 48,
   "metadata": {
    "ExecuteTime": {
     "end_time": "2022-01-12T09:56:09.837144Z",
     "start_time": "2022-01-12T09:56:09.827143Z"
    }
   },
   "outputs": [],
   "source": [
    "piqc.iloc[::30].to_csv(\"piqc\",index=None,sep='\\t')"
   ]
  },
  {
   "cell_type": "code",
   "execution_count": 62,
   "metadata": {
    "ExecuteTime": {
     "end_time": "2022-01-12T09:59:28.538177Z",
     "start_time": "2022-01-12T09:59:28.513136Z"
    }
   },
   "outputs": [],
   "source": [
    "piqc.query(\"`f(x)`<=466 & index <=206\").to_csv(\"piqc_in\",index=None,sep='\\t')"
   ]
  },
  {
   "cell_type": "code",
   "execution_count": null,
   "metadata": {},
   "outputs": [],
   "source": []
  },
  {
   "cell_type": "code",
   "execution_count": null,
   "metadata": {},
   "outputs": [],
   "source": []
  },
  {
   "cell_type": "code",
   "execution_count": null,
   "metadata": {},
   "outputs": [],
   "source": []
  },
  {
   "cell_type": "code",
   "execution_count": null,
   "metadata": {},
   "outputs": [],
   "source": []
  },
  {
   "cell_type": "code",
   "execution_count": null,
   "metadata": {},
   "outputs": [],
   "source": []
  },
  {
   "cell_type": "code",
   "execution_count": null,
   "metadata": {},
   "outputs": [],
   "source": []
  },
  {
   "cell_type": "code",
   "execution_count": null,
   "metadata": {},
   "outputs": [],
   "source": []
  },
  {
   "cell_type": "code",
   "execution_count": null,
   "metadata": {},
   "outputs": [],
   "source": []
  },
  {
   "cell_type": "code",
   "execution_count": null,
   "metadata": {},
   "outputs": [],
   "source": []
  },
  {
   "cell_type": "markdown",
   "metadata": {},
   "source": [
    "- some help fun() note here."
   ]
  },
  {
   "cell_type": "code",
   "execution_count": 5,
   "metadata": {},
   "outputs": [],
   "source": [
    "## note here\n",
    "## Given a value, calculate the cumulative probability\n",
    "value = 0\n",
    "cdf(X)(value).evalf()\n",
    "## Given a value, calculate the cumulative probability\n",
    "value = 189.380\n",
    "P(X < value).evalf(subs=parameter)"
   ]
  }
 ],
 "metadata": {
  "kernelspec": {
   "display_name": "Python 3",
   "language": "python",
   "name": "python3"
  },
  "language_info": {
   "codemirror_mode": {
    "name": "ipython",
    "version": 3
   },
   "file_extension": ".py",
   "mimetype": "text/x-python",
   "name": "python",
   "nbconvert_exporter": "python",
   "pygments_lexer": "ipython3",
   "version": "3.6.5"
  },
  "latex_envs": {
   "LaTeX_envs_menu_present": true,
   "autoclose": false,
   "autocomplete": true,
   "bibliofile": "biblio.bib",
   "cite_by": "apalike",
   "current_citInitial": 1,
   "eqLabelWithNumbers": true,
   "eqNumInitial": 1,
   "hotkeys": {
    "equation": "Ctrl-E",
    "itemize": "Ctrl-I"
   },
   "labels_anchors": false,
   "latex_user_defs": false,
   "report_style_numbering": false,
   "user_envs_cfg": false
  }
 },
 "nbformat": 4,
 "nbformat_minor": 4
}
