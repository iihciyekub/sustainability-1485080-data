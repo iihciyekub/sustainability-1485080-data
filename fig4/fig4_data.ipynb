{
 "cells": [
  {
   "cell_type": "markdown",
   "metadata": {},
   "source": [
    "|      |      | \n",
    "| ---- | ---- | \n",
    "| Journal:|Sustainability (ISSN 2071-1050)|\n",
    "|Manuscript ID:| sustainability-1485080|\n",
    "|Type:|Article|\n",
    "|Title:|NEVs Supply Chain Coordination with Financial Constraint and Demand Uncertainty|\n",
    "|manuscripts:|P.6 - figure 4. Data generation code|\n",
    "|Code authors:|Yongjian Li$^*$ |\n",
    "|Last modify:|2021-01-12|\n",
    "|version:|Python 3.6.5, sympy >= 1.3|"
   ]
  },
  {
   "cell_type": "code",
   "execution_count": 1,
   "metadata": {
    "ExecuteTime": {
     "end_time": "2022-01-12T04:48:40.907368Z",
     "start_time": "2022-01-12T04:48:38.792034Z"
    }
   },
   "outputs": [
    {
     "data": {
      "text/plain": [
       "'1.9'"
      ]
     },
     "execution_count": 1,
     "metadata": {},
     "output_type": "execute_result"
    }
   ],
   "source": [
    "from sympy import *\n",
    "from sympy.stats import *\n",
    "import numpy as np\n",
    "import pandas as pd\n",
    "# init_printing(use_unicode=True)\n",
    "import sympy\n",
    "sympy.__version__"
   ]
  },
  {
   "cell_type": "code",
   "execution_count": 2,
   "metadata": {
    "ExecuteTime": {
     "end_time": "2022-01-12T04:48:42.960443Z",
     "start_time": "2022-01-12T04:48:42.944260Z"
    }
   },
   "outputs": [],
   "source": [
    "p, w, c, s, B, b, r, alpha, theta, q, a, x, r, mu, sigma, y = symbols(\n",
    "    \"p,w,c,s,B,b,r,alpha,theta,q,a,x,r,mu,sigma,y\")"
   ]
  },
  {
   "cell_type": "code",
   "execution_count": 3,
   "metadata": {
    "ExecuteTime": {
     "end_time": "2022-01-12T04:48:43.694997Z",
     "start_time": "2022-01-12T04:48:43.683030Z"
    }
   },
   "outputs": [],
   "source": [
    "# Initial parameter values\n",
    "parameter = {p: 10, c: 4, s: 3, w: 6, theta: 0.8, b: 3, B: 100, r: 0.05,\n",
    "             mu: 100, sigma: 100}"
   ]
  },
  {
   "cell_type": "markdown",
   "metadata": {},
   "source": [
    "#### (see manuscript P(6) figure 4.)\n",
    "\n",
    "\\begin{align}\n",
    "&\\pi_{r}=q(\\theta p-w)-(p \\theta-b) \\int_{0}^{q} F(x) d x-(w q-B)^+ r\\\\\n",
    "&\\pi_{s}=q[(1-\\theta) p+w-c]-[(1-\\theta) p-s+b] \\int_{0}^{q} F(x) d x\n",
    "\\end{align}\n",
    "\n"
   ]
  },
  {
   "cell_type": "markdown",
   "metadata": {},
   "source": [
    "- Suppose X is normally distributed with $\\mu=100$,$\\sigma=100$ \n",
    "- CDF,exp1: $F(x) = \\alpha$"
   ]
  },
  {
   "cell_type": "code",
   "execution_count": 4,
   "metadata": {
    "ExecuteTime": {
     "end_time": "2022-01-12T04:49:32.038791Z",
     "start_time": "2022-01-12T04:49:31.724518Z"
    }
   },
   "outputs": [
    {
     "data": {
      "text/latex": [
       "$\\displaystyle \\frac{\\operatorname{erf}{\\left(\\frac{\\sqrt{2} \\left(x - 100\\right)}{200} \\right)}}{2} + \\frac{1}{2} = \\alpha$"
      ],
      "text/plain": [
       "Eq(erf(sqrt(2)*(x - 100)/200)/2 + 1/2, alpha)"
      ]
     },
     "execution_count": 4,
     "metadata": {},
     "output_type": "execute_result"
    }
   ],
   "source": [
    "X = Normal(x, mu, sigma).subs(parameter)\n",
    "exp1 = Eq(cdf(X)(x), alpha)\n",
    "exp1"
   ]
  },
  {
   "cell_type": "markdown",
   "metadata": {},
   "source": [
    "- inverse exp1: $F^{-1}(\\alpha) = x ,\\quad \\{0\\leqslant \\alpha \\leqslant 1\\}$"
   ]
  },
  {
   "cell_type": "code",
   "execution_count": 5,
   "metadata": {
    "ExecuteTime": {
     "end_time": "2022-01-12T04:49:33.768672Z",
     "start_time": "2022-01-12T04:49:33.639302Z"
    }
   },
   "outputs": [
    {
     "data": {
      "text/latex": [
       "$\\displaystyle 100 \\sqrt{2} \\operatorname{erfinv}{\\left(2 \\alpha - 1 \\right)} + 100$"
      ],
      "text/plain": [
       "100*sqrt(2)*erfinv(2*alpha - 1) + 100"
      ]
     },
     "execution_count": 5,
     "metadata": {},
     "output_type": "execute_result"
    }
   ],
   "source": [
    "i_cdf = solve(exp1, x)[0]\n",
    "i_cdf"
   ]
  },
  {
   "cell_type": "code",
   "execution_count": 117,
   "metadata": {
    "ExecuteTime": {
     "end_time": "2022-01-12T05:37:28.131499Z",
     "start_time": "2022-01-12T05:37:26.683612Z"
    }
   },
   "outputs": [
    {
     "data": {
      "text/html": [
       "<div>\n",
       "<style scoped>\n",
       "    .dataframe tbody tr th:only-of-type {\n",
       "        vertical-align: middle;\n",
       "    }\n",
       "\n",
       "    .dataframe tbody tr th {\n",
       "        vertical-align: top;\n",
       "    }\n",
       "\n",
       "    .dataframe thead th {\n",
       "        text-align: right;\n",
       "    }\n",
       "</style>\n",
       "<table border=\"1\" class=\"dataframe\">\n",
       "  <thead>\n",
       "    <tr style=\"text-align: right;\">\n",
       "      <th></th>\n",
       "      <th>x_0</th>\n",
       "      <th>f(x)</th>\n",
       "    </tr>\n",
       "  </thead>\n",
       "  <tbody>\n",
       "    <tr>\n",
       "      <th>0</th>\n",
       "      <td>0.001</td>\n",
       "      <td>-209</td>\n",
       "    </tr>\n",
       "    <tr>\n",
       "      <th>1</th>\n",
       "      <td>0.002</td>\n",
       "      <td>-187</td>\n",
       "    </tr>\n",
       "    <tr>\n",
       "      <th>2</th>\n",
       "      <td>0.003</td>\n",
       "      <td>-174</td>\n",
       "    </tr>\n",
       "    <tr>\n",
       "      <th>3</th>\n",
       "      <td>0.004</td>\n",
       "      <td>-165</td>\n",
       "    </tr>\n",
       "    <tr>\n",
       "      <th>4</th>\n",
       "      <td>0.005</td>\n",
       "      <td>-157</td>\n",
       "    </tr>\n",
       "    <tr>\n",
       "      <th>...</th>\n",
       "      <td>...</td>\n",
       "      <td>...</td>\n",
       "    </tr>\n",
       "    <tr>\n",
       "      <th>422</th>\n",
       "      <td>0.995</td>\n",
       "      <td>357</td>\n",
       "    </tr>\n",
       "    <tr>\n",
       "      <th>423</th>\n",
       "      <td>0.996</td>\n",
       "      <td>365</td>\n",
       "    </tr>\n",
       "    <tr>\n",
       "      <th>424</th>\n",
       "      <td>0.997</td>\n",
       "      <td>374</td>\n",
       "    </tr>\n",
       "    <tr>\n",
       "      <th>425</th>\n",
       "      <td>0.998</td>\n",
       "      <td>387</td>\n",
       "    </tr>\n",
       "    <tr>\n",
       "      <th>426</th>\n",
       "      <td>0.999</td>\n",
       "      <td>409</td>\n",
       "    </tr>\n",
       "  </tbody>\n",
       "</table>\n",
       "<p>427 rows × 2 columns</p>\n",
       "</div>"
      ],
      "text/plain": [
       "       x_0  f(x)\n",
       "0    0.001  -209\n",
       "1    0.002  -187\n",
       "2    0.003  -174\n",
       "3    0.004  -165\n",
       "4    0.005  -157\n",
       "..     ...   ...\n",
       "422  0.995   357\n",
       "423  0.996   365\n",
       "424  0.997   374\n",
       "425  0.998   387\n",
       "426  0.999   409\n",
       "\n",
       "[427 rows x 2 columns]"
      ]
     },
     "execution_count": 117,
     "metadata": {},
     "output_type": "execute_result"
    }
   ],
   "source": [
    "# Convert a SymPy expression into a function that allows for fast numeric evaluation.\n",
    "f = lambdify(alpha, i_cdf, modules=['numpy', 'sympy'])\n",
    "\n",
    "x_0 = [i/1000 for i in range(1, 1000)]\n",
    "\n",
    "dt = {\n",
    "    \"x_0\": x_0,\n",
    "}\n",
    "\n",
    "df = pd.DataFrame(dt)\n",
    "df['f(x)'] = df['x_0'].map(f)\n",
    "df1 = df.copy()\n",
    "df1['f(x)'] = df1['f(x)'].map(int)\n",
    "df1 = df1.drop_duplicates(subset=['f(x)']).reset_index(drop=True).copy()\n",
    "df1"
   ]
  },
  {
   "cell_type": "code",
   "execution_count": 7,
   "metadata": {
    "ExecuteTime": {
     "end_time": "2022-01-12T04:49:36.859067Z",
     "start_time": "2022-01-12T04:49:36.820588Z"
    }
   },
   "outputs": [
    {
     "data": {
      "text/html": [
       "<div>\n",
       "<style scoped>\n",
       "    .dataframe tbody tr th:only-of-type {\n",
       "        vertical-align: middle;\n",
       "    }\n",
       "\n",
       "    .dataframe tbody tr th {\n",
       "        vertical-align: top;\n",
       "    }\n",
       "\n",
       "    .dataframe thead th {\n",
       "        text-align: right;\n",
       "    }\n",
       "</style>\n",
       "<table border=\"1\" class=\"dataframe\">\n",
       "  <thead>\n",
       "    <tr style=\"text-align: right;\">\n",
       "      <th></th>\n",
       "      <th>x_0</th>\n",
       "      <th>f(x)</th>\n",
       "    </tr>\n",
       "  </thead>\n",
       "  <tbody>\n",
       "    <tr>\n",
       "      <th>113</th>\n",
       "      <td>0.157</td>\n",
       "      <td>0</td>\n",
       "    </tr>\n",
       "  </tbody>\n",
       "</table>\n",
       "</div>"
      ],
      "text/plain": [
       "       x_0  f(x)\n",
       "113  0.157     0"
      ]
     },
     "execution_count": 7,
     "metadata": {},
     "output_type": "execute_result"
    }
   ],
   "source": [
    "df1.query(\"`f(x)`==0\")"
   ]
  },
  {
   "cell_type": "code",
   "execution_count": 8,
   "metadata": {
    "ExecuteTime": {
     "end_time": "2022-01-12T04:49:47.823869Z",
     "start_time": "2022-01-12T04:49:47.818882Z"
    }
   },
   "outputs": [],
   "source": [
    "# df1.iloc[::10].to_csv(\"inverse(CDF)\",index=None,sep='\\t')"
   ]
  },
  {
   "cell_type": "code",
   "execution_count": null,
   "metadata": {},
   "outputs": [],
   "source": []
  },
  {
   "cell_type": "code",
   "execution_count": null,
   "metadata": {},
   "outputs": [],
   "source": []
  },
  {
   "cell_type": "code",
   "execution_count": null,
   "metadata": {},
   "outputs": [],
   "source": []
  },
  {
   "cell_type": "code",
   "execution_count": null,
   "metadata": {},
   "outputs": [],
   "source": []
  },
  {
   "cell_type": "code",
   "execution_count": null,
   "metadata": {},
   "outputs": [],
   "source": []
  },
  {
   "cell_type": "markdown",
   "metadata": {},
   "source": [
    "$$q^d_{s}=F^{-1}\\left(\\frac{\\theta p-w(1+r)}{\\theta p-b}\\right)$$"
   ]
  },
  {
   "cell_type": "code",
   "execution_count": 10,
   "metadata": {
    "ExecuteTime": {
     "end_time": "2022-01-12T04:53:56.875774Z",
     "start_time": "2022-01-12T04:53:56.857854Z"
    }
   },
   "outputs": [
    {
     "data": {
      "text/latex": [
       "$\\displaystyle \\frac{p \\theta - w \\left(r + 1\\right)}{- b + p \\theta}$"
      ],
      "text/plain": [
       "(p*theta - w*(r + 1))/(-b + p*theta)"
      ]
     },
     "execution_count": 10,
     "metadata": {},
     "output_type": "execute_result"
    }
   ],
   "source": [
    "prob = (p*theta - w*(1+r))/(theta*p - b)\n",
    "prob"
   ]
  },
  {
   "cell_type": "code",
   "execution_count": 11,
   "metadata": {
    "ExecuteTime": {
     "end_time": "2022-01-12T04:53:57.937837Z",
     "start_time": "2022-01-12T04:53:57.921878Z"
    }
   },
   "outputs": [
    {
     "data": {
      "text/latex": [
       "$\\displaystyle 0.34$"
      ],
      "text/plain": [
       "0.340000"
      ]
     },
     "execution_count": 11,
     "metadata": {},
     "output_type": "execute_result"
    }
   ],
   "source": [
    "prob =prob.subs(parameter).evalf(6)\n",
    "prob"
   ]
  },
  {
   "cell_type": "code",
   "execution_count": 12,
   "metadata": {
    "ExecuteTime": {
     "end_time": "2022-01-12T04:53:59.052845Z",
     "start_time": "2022-01-12T04:53:58.941274Z"
    }
   },
   "outputs": [
    {
     "data": {
      "text/plain": [
       "58"
      ]
     },
     "execution_count": 12,
     "metadata": {},
     "output_type": "execute_result"
    }
   ],
   "source": [
    "eq = Eq(cdf(X)(a), prob)\n",
    "qd_s = solve(eq, a)[0].subs(parameter)\n",
    "qd_s = int(qd_s)\n",
    "qd_s"
   ]
  },
  {
   "cell_type": "code",
   "execution_count": null,
   "metadata": {},
   "outputs": [],
   "source": []
  },
  {
   "cell_type": "code",
   "execution_count": null,
   "metadata": {},
   "outputs": [],
   "source": []
  },
  {
   "cell_type": "code",
   "execution_count": null,
   "metadata": {},
   "outputs": [],
   "source": []
  },
  {
   "cell_type": "code",
   "execution_count": null,
   "metadata": {},
   "outputs": [],
   "source": []
  },
  {
   "cell_type": "markdown",
   "metadata": {},
   "source": [
    "$$q_{t}^{d}=\\frac{(\\theta p-b) F^{-1}(\\alpha)+B(1+r)}{w(1+r)-b}$$"
   ]
  },
  {
   "cell_type": "code",
   "execution_count": 119,
   "metadata": {
    "ExecuteTime": {
     "end_time": "2022-01-12T05:39:26.947186Z",
     "start_time": "2022-01-12T05:39:26.923215Z"
    }
   },
   "outputs": [
    {
     "data": {
      "text/latex": [
       "$\\displaystyle \\frac{B \\left(r + 1\\right) + x \\left(- b + p \\theta\\right)}{- b + w \\left(r + 1\\right)}$"
      ],
      "text/plain": [
       "(B*(r + 1) + x*(-b + p*theta))/(-b + w*(r + 1))"
      ]
     },
     "execution_count": 119,
     "metadata": {},
     "output_type": "execute_result"
    }
   ],
   "source": [
    "qd_t = ((p*theta-b) *x +B*(1+r))/(w*(1+r)-b)\n",
    "qd_t"
   ]
  },
  {
   "cell_type": "code",
   "execution_count": 120,
   "metadata": {
    "ExecuteTime": {
     "end_time": "2022-01-12T05:39:28.565179Z",
     "start_time": "2022-01-12T05:39:28.312593Z"
    }
   },
   "outputs": [
    {
     "data": {
      "text/plain": [
       "(999,)"
      ]
     },
     "execution_count": 120,
     "metadata": {},
     "output_type": "execute_result"
    }
   ],
   "source": [
    "qd_t = qd_t.subs(parameter)\n",
    "\n",
    "f2 = lambdify(x, qd_t, modules=['numpy', 'sympy'])\n",
    "\n",
    "qd_t_values = f2(df['f(x)'])\n",
    "qd_t_values = qd_t_values.to_numpy()\n",
    "qd_t_values.shape"
   ]
  },
  {
   "cell_type": "code",
   "execution_count": 123,
   "metadata": {
    "ExecuteTime": {
     "end_time": "2022-01-12T05:40:15.603611Z",
     "start_time": "2022-01-12T05:40:15.584663Z"
    },
    "code_folding": []
   },
   "outputs": [
    {
     "data": {
      "text/html": [
       "<div>\n",
       "<style scoped>\n",
       "    .dataframe tbody tr th:only-of-type {\n",
       "        vertical-align: middle;\n",
       "    }\n",
       "\n",
       "    .dataframe tbody tr th {\n",
       "        vertical-align: top;\n",
       "    }\n",
       "\n",
       "    .dataframe thead th {\n",
       "        text-align: right;\n",
       "    }\n",
       "</style>\n",
       "<table border=\"1\" class=\"dataframe\">\n",
       "  <thead>\n",
       "    <tr style=\"text-align: right;\">\n",
       "      <th></th>\n",
       "      <th>x_0</th>\n",
       "      <th>f(x)</th>\n",
       "    </tr>\n",
       "  </thead>\n",
       "  <tbody>\n",
       "    <tr>\n",
       "      <th>0</th>\n",
       "      <td>0.001</td>\n",
       "      <td>-284.883682752698</td>\n",
       "    </tr>\n",
       "    <tr>\n",
       "      <th>1</th>\n",
       "      <td>0.002</td>\n",
       "      <td>-252.751778650830</td>\n",
       "    </tr>\n",
       "    <tr>\n",
       "      <th>2</th>\n",
       "      <td>0.003</td>\n",
       "      <td>-232.997179612877</td>\n",
       "    </tr>\n",
       "    <tr>\n",
       "      <th>3</th>\n",
       "      <td>0.004</td>\n",
       "      <td>-218.495425439726</td>\n",
       "    </tr>\n",
       "    <tr>\n",
       "      <th>4</th>\n",
       "      <td>0.005</td>\n",
       "      <td>-206.943833871045</td>\n",
       "    </tr>\n",
       "    <tr>\n",
       "      <th>...</th>\n",
       "      <td>...</td>\n",
       "      <td>...</td>\n",
       "    </tr>\n",
       "    <tr>\n",
       "      <th>994</th>\n",
       "      <td>0.995</td>\n",
       "      <td>573.610500537710</td>\n",
       "    </tr>\n",
       "    <tr>\n",
       "      <th>995</th>\n",
       "      <td>0.996</td>\n",
       "      <td>585.162092106391</td>\n",
       "    </tr>\n",
       "    <tr>\n",
       "      <th>996</th>\n",
       "      <td>0.997</td>\n",
       "      <td>599.663846279542</td>\n",
       "    </tr>\n",
       "    <tr>\n",
       "      <th>997</th>\n",
       "      <td>0.998</td>\n",
       "      <td>619.418445317495</td>\n",
       "    </tr>\n",
       "    <tr>\n",
       "      <th>998</th>\n",
       "      <td>0.999</td>\n",
       "      <td>651.550349419364</td>\n",
       "    </tr>\n",
       "  </tbody>\n",
       "</table>\n",
       "<p>999 rows × 2 columns</p>\n",
       "</div>"
      ],
      "text/plain": [
       "       x_0               f(x)\n",
       "0    0.001  -284.883682752698\n",
       "1    0.002  -252.751778650830\n",
       "2    0.003  -232.997179612877\n",
       "3    0.004  -218.495425439726\n",
       "4    0.005  -206.943833871045\n",
       "..     ...                ...\n",
       "994  0.995   573.610500537710\n",
       "995  0.996   585.162092106391\n",
       "996  0.997   599.663846279542\n",
       "997  0.998   619.418445317495\n",
       "998  0.999   651.550349419364\n",
       "\n",
       "[999 rows x 2 columns]"
      ]
     },
     "execution_count": 123,
     "metadata": {},
     "output_type": "execute_result"
    }
   ],
   "source": [
    "dt = {\n",
    "    \"x_0\": x_0,\n",
    "    \"f(x)\": qd_t_values\n",
    "}\n",
    "df_qd_t = pd.DataFrame(dt)\n",
    "df_qd_t0 = df_qd_t.copy()\n",
    "df_qd_t['f(x)'] = df_qd_t['f(x)'].map(int)\n",
    "df_qd_t.head(10)\n",
    "df_qd_t0"
   ]
  },
  {
   "cell_type": "code",
   "execution_count": 27,
   "metadata": {
    "ExecuteTime": {
     "end_time": "2022-01-12T04:59:03.069782Z",
     "start_time": "2022-01-12T04:59:03.053815Z"
    }
   },
   "outputs": [
    {
     "data": {
      "text/html": [
       "<div>\n",
       "<style scoped>\n",
       "    .dataframe tbody tr th:only-of-type {\n",
       "        vertical-align: middle;\n",
       "    }\n",
       "\n",
       "    .dataframe tbody tr th {\n",
       "        vertical-align: top;\n",
       "    }\n",
       "\n",
       "    .dataframe thead th {\n",
       "        text-align: right;\n",
       "    }\n",
       "</style>\n",
       "<table border=\"1\" class=\"dataframe\">\n",
       "  <thead>\n",
       "    <tr style=\"text-align: right;\">\n",
       "      <th></th>\n",
       "      <th>x_0</th>\n",
       "      <th>f(x)</th>\n",
       "    </tr>\n",
       "  </thead>\n",
       "  <tbody>\n",
       "    <tr>\n",
       "      <th>0</th>\n",
       "      <td>0.001</td>\n",
       "      <td>-284</td>\n",
       "    </tr>\n",
       "    <tr>\n",
       "      <th>1</th>\n",
       "      <td>0.011</td>\n",
       "      <td>-163</td>\n",
       "    </tr>\n",
       "    <tr>\n",
       "      <th>2</th>\n",
       "      <td>0.021</td>\n",
       "      <td>-124</td>\n",
       "    </tr>\n",
       "    <tr>\n",
       "      <th>3</th>\n",
       "      <td>0.031</td>\n",
       "      <td>-98</td>\n",
       "    </tr>\n",
       "    <tr>\n",
       "      <th>4</th>\n",
       "      <td>0.041</td>\n",
       "      <td>-78</td>\n",
       "    </tr>\n",
       "    <tr>\n",
       "      <th>...</th>\n",
       "      <td>...</td>\n",
       "      <td>...</td>\n",
       "    </tr>\n",
       "    <tr>\n",
       "      <th>95</th>\n",
       "      <td>0.951</td>\n",
       "      <td>433</td>\n",
       "    </tr>\n",
       "    <tr>\n",
       "      <th>96</th>\n",
       "      <td>0.961</td>\n",
       "      <td>449</td>\n",
       "    </tr>\n",
       "    <tr>\n",
       "      <th>97</th>\n",
       "      <td>0.971</td>\n",
       "      <td>469</td>\n",
       "    </tr>\n",
       "    <tr>\n",
       "      <th>98</th>\n",
       "      <td>0.981</td>\n",
       "      <td>496</td>\n",
       "    </tr>\n",
       "    <tr>\n",
       "      <th>99</th>\n",
       "      <td>0.991</td>\n",
       "      <td>540</td>\n",
       "    </tr>\n",
       "  </tbody>\n",
       "</table>\n",
       "<p>100 rows × 2 columns</p>\n",
       "</div>"
      ],
      "text/plain": [
       "      x_0  f(x)\n",
       "0   0.001  -284\n",
       "1   0.011  -163\n",
       "2   0.021  -124\n",
       "3   0.031   -98\n",
       "4   0.041   -78\n",
       "..    ...   ...\n",
       "95  0.951   433\n",
       "96  0.961   449\n",
       "97  0.971   469\n",
       "98  0.981   496\n",
       "99  0.991   540\n",
       "\n",
       "[100 rows x 2 columns]"
      ]
     },
     "execution_count": 27,
     "metadata": {},
     "output_type": "execute_result"
    }
   ],
   "source": [
    "#### df_qd_t = df_qd_t.drop_duplicates(subset=['f(x)']).reset_index(drop=True)\n",
    "df_qd_t = df_qd_t.iloc[::10].reset_index(drop=True)\n",
    "df_qd_t"
   ]
  },
  {
   "cell_type": "code",
   "execution_count": 28,
   "metadata": {
    "ExecuteTime": {
     "end_time": "2022-01-12T04:59:04.184705Z",
     "start_time": "2022-01-12T04:59:04.129852Z"
    }
   },
   "outputs": [
    {
     "data": {
      "text/html": [
       "<div>\n",
       "<style scoped>\n",
       "    .dataframe tbody tr th:only-of-type {\n",
       "        vertical-align: middle;\n",
       "    }\n",
       "\n",
       "    .dataframe tbody tr th {\n",
       "        vertical-align: top;\n",
       "    }\n",
       "\n",
       "    .dataframe thead th {\n",
       "        text-align: right;\n",
       "    }\n",
       "</style>\n",
       "<table border=\"1\" class=\"dataframe\">\n",
       "  <thead>\n",
       "    <tr style=\"text-align: right;\">\n",
       "      <th></th>\n",
       "      <th>x_0</th>\n",
       "      <th>f(x)</th>\n",
       "    </tr>\n",
       "  </thead>\n",
       "  <tbody>\n",
       "    <tr>\n",
       "      <th>0</th>\n",
       "      <td>0.001</td>\n",
       "      <td>-284</td>\n",
       "    </tr>\n",
       "    <tr>\n",
       "      <th>1</th>\n",
       "      <td>0.011</td>\n",
       "      <td>-163</td>\n",
       "    </tr>\n",
       "    <tr>\n",
       "      <th>2</th>\n",
       "      <td>0.021</td>\n",
       "      <td>-124</td>\n",
       "    </tr>\n",
       "    <tr>\n",
       "      <th>3</th>\n",
       "      <td>0.031</td>\n",
       "      <td>-98</td>\n",
       "    </tr>\n",
       "    <tr>\n",
       "      <th>4</th>\n",
       "      <td>0.041</td>\n",
       "      <td>-78</td>\n",
       "    </tr>\n",
       "    <tr>\n",
       "      <th>...</th>\n",
       "      <td>...</td>\n",
       "      <td>...</td>\n",
       "    </tr>\n",
       "    <tr>\n",
       "      <th>97</th>\n",
       "      <td>0.951</td>\n",
       "      <td>433</td>\n",
       "    </tr>\n",
       "    <tr>\n",
       "      <th>98</th>\n",
       "      <td>0.961</td>\n",
       "      <td>449</td>\n",
       "    </tr>\n",
       "    <tr>\n",
       "      <th>99</th>\n",
       "      <td>0.971</td>\n",
       "      <td>469</td>\n",
       "    </tr>\n",
       "    <tr>\n",
       "      <th>100</th>\n",
       "      <td>0.981</td>\n",
       "      <td>496</td>\n",
       "    </tr>\n",
       "    <tr>\n",
       "      <th>101</th>\n",
       "      <td>0.991</td>\n",
       "      <td>540</td>\n",
       "    </tr>\n",
       "  </tbody>\n",
       "</table>\n",
       "<p>102 rows × 2 columns</p>\n",
       "</div>"
      ],
      "text/plain": [
       "       x_0  f(x)\n",
       "0    0.001  -284\n",
       "1    0.011  -163\n",
       "2    0.021  -124\n",
       "3    0.031   -98\n",
       "4    0.041   -78\n",
       "..     ...   ...\n",
       "97   0.951   433\n",
       "98   0.961   449\n",
       "99   0.971   469\n",
       "100  0.981   496\n",
       "101  0.991   540\n",
       "\n",
       "[102 rows x 2 columns]"
      ]
     },
     "execution_count": 28,
     "metadata": {},
     "output_type": "execute_result"
    }
   ],
   "source": [
    "value = solve(Eq(qd_t, qd_s), x)[0]\n",
    "d1 = {\n",
    "    \"x_0\": [cdf(X)(value).evalf()],\n",
    "    \"f(x)\": [qd_s]\n",
    "}\n",
    "df_qd_t = df_qd_t.append(pd.DataFrame(d1))\n",
    "\n",
    "\n",
    "value = solve(Eq(qd_t, 0), x)[0]\n",
    "d1 = {\n",
    "    \"x_0\": [cdf(X)(value).evalf()],\n",
    "    \"f(x)\": [0]\n",
    "}\n",
    "\n",
    "df_qd_t = df_qd_t.append(pd.DataFrame(d1))\n",
    "df_qd_t = df_qd_t.drop_duplicates(subset=['x_0'])\n",
    "df_qd_t = df_qd_t.sort_values(by=['x_0']).reset_index(drop=True)\n",
    "df_qd_t"
   ]
  },
  {
   "cell_type": "code",
   "execution_count": 29,
   "metadata": {
    "ExecuteTime": {
     "end_time": "2022-01-12T04:59:07.253968Z",
     "start_time": "2022-01-12T04:59:07.230026Z"
    }
   },
   "outputs": [
    {
     "data": {
      "text/html": [
       "<div>\n",
       "<style scoped>\n",
       "    .dataframe tbody tr th:only-of-type {\n",
       "        vertical-align: middle;\n",
       "    }\n",
       "\n",
       "    .dataframe tbody tr th {\n",
       "        vertical-align: top;\n",
       "    }\n",
       "\n",
       "    .dataframe thead th {\n",
       "        text-align: right;\n",
       "    }\n",
       "</style>\n",
       "<table border=\"1\" class=\"dataframe\">\n",
       "  <thead>\n",
       "    <tr style=\"text-align: right;\">\n",
       "      <th></th>\n",
       "      <th>x_0</th>\n",
       "      <th>f(x)</th>\n",
       "    </tr>\n",
       "  </thead>\n",
       "  <tbody>\n",
       "    <tr>\n",
       "      <th>0</th>\n",
       "      <td>0.113139446443977</td>\n",
       "      <td>0</td>\n",
       "    </tr>\n",
       "    <tr>\n",
       "      <th>1</th>\n",
       "      <td>0.121</td>\n",
       "      <td>6</td>\n",
       "    </tr>\n",
       "    <tr>\n",
       "      <th>2</th>\n",
       "      <td>0.131</td>\n",
       "      <td>13</td>\n",
       "    </tr>\n",
       "    <tr>\n",
       "      <th>3</th>\n",
       "      <td>0.141</td>\n",
       "      <td>21</td>\n",
       "    </tr>\n",
       "    <tr>\n",
       "      <th>4</th>\n",
       "      <td>0.151</td>\n",
       "      <td>27</td>\n",
       "    </tr>\n",
       "    <tr>\n",
       "      <th>5</th>\n",
       "      <td>0.161</td>\n",
       "      <td>31</td>\n",
       "    </tr>\n",
       "    <tr>\n",
       "      <th>6</th>\n",
       "      <td>0.171</td>\n",
       "      <td>37</td>\n",
       "    </tr>\n",
       "    <tr>\n",
       "      <th>7</th>\n",
       "      <td>0.181</td>\n",
       "      <td>43</td>\n",
       "    </tr>\n",
       "    <tr>\n",
       "      <th>8</th>\n",
       "      <td>0.191</td>\n",
       "      <td>49</td>\n",
       "    </tr>\n",
       "    <tr>\n",
       "      <th>9</th>\n",
       "      <td>0.201</td>\n",
       "      <td>56</td>\n",
       "    </tr>\n",
       "    <tr>\n",
       "      <th>10</th>\n",
       "      <td>0.204061855829433</td>\n",
       "      <td>58</td>\n",
       "    </tr>\n",
       "  </tbody>\n",
       "</table>\n",
       "</div>"
      ],
      "text/plain": [
       "                  x_0  f(x)\n",
       "0   0.113139446443977     0\n",
       "1               0.121     6\n",
       "2               0.131    13\n",
       "3               0.141    21\n",
       "4               0.151    27\n",
       "5               0.161    31\n",
       "6               0.171    37\n",
       "7               0.181    43\n",
       "8               0.191    49\n",
       "9               0.201    56\n",
       "10  0.204061855829433    58"
      ]
     },
     "execution_count": 29,
     "metadata": {},
     "output_type": "execute_result"
    }
   ],
   "source": [
    "df_qd_t_e = df_qd_t.query(\"@qd_s >=`f(x)` >= 0\").reset_index(drop=True)\n",
    "df_qd_t_e"
   ]
  },
  {
   "cell_type": "code",
   "execution_count": 57,
   "metadata": {
    "ExecuteTime": {
     "end_time": "2022-01-12T03:54:37.461474Z",
     "start_time": "2022-01-12T03:54:37.444518Z"
    }
   },
   "outputs": [],
   "source": [
    "# df_qd_t.to_csv(\"qd_t\",index=None,sep='\\t')\n",
    "# df_qd_t_e.to_csv(\"qd_t_e\",index=None,sep='\\t')"
   ]
  },
  {
   "cell_type": "code",
   "execution_count": null,
   "metadata": {},
   "outputs": [],
   "source": []
  },
  {
   "cell_type": "code",
   "execution_count": null,
   "metadata": {},
   "outputs": [],
   "source": []
  },
  {
   "cell_type": "code",
   "execution_count": null,
   "metadata": {},
   "outputs": [],
   "source": []
  },
  {
   "cell_type": "code",
   "execution_count": null,
   "metadata": {},
   "outputs": [],
   "source": []
  },
  {
   "cell_type": "code",
   "execution_count": null,
   "metadata": {},
   "outputs": [],
   "source": []
  },
  {
   "cell_type": "code",
   "execution_count": null,
   "metadata": {},
   "outputs": [],
   "source": []
  },
  {
   "cell_type": "code",
   "execution_count": null,
   "metadata": {},
   "outputs": [],
   "source": []
  },
  {
   "cell_type": "markdown",
   "metadata": {
    "ExecuteTime": {
     "end_time": "2022-01-11T19:19:05.066897Z",
     "start_time": "2022-01-11T19:19:05.062908Z"
    }
   },
   "source": [
    "# Retailer's Profit\n",
    "\n",
    "$\\pi_{r}=q(\\theta p-w)-(p \\theta-b) \\int_{0}^{q} F(x) d x-(w q-B)^+ r$"
   ]
  },
  {
   "cell_type": "code",
   "execution_count": 124,
   "metadata": {
    "ExecuteTime": {
     "end_time": "2022-01-12T05:40:23.325248Z",
     "start_time": "2022-01-12T05:40:23.315238Z"
    }
   },
   "outputs": [],
   "source": [
    "p, w, c, s, B, b, r, alpha, theta, q, a, x, r, mu, sigma, y = symbols(\n",
    "    \"p,w,c,s,B,b,r,alpha,theta,q,a,x,r,mu,sigma,y\")"
   ]
  },
  {
   "cell_type": "code",
   "execution_count": 125,
   "metadata": {
    "ExecuteTime": {
     "end_time": "2022-01-12T05:40:23.640555Z",
     "start_time": "2022-01-12T05:40:23.634596Z"
    }
   },
   "outputs": [],
   "source": [
    "parameter = {p: 10, c: 4, s: 3, w: 6, theta: 0.8, b: 3,\n",
    "             B: 100, r: 0.05, mu: 100, sigma: 100}"
   ]
  },
  {
   "cell_type": "code",
   "execution_count": 126,
   "metadata": {
    "ExecuteTime": {
     "end_time": "2022-01-12T05:40:24.240373Z",
     "start_time": "2022-01-12T05:40:23.950904Z"
    }
   },
   "outputs": [
    {
     "data": {
      "text/latex": [
       "$\\displaystyle q \\left(p \\theta - w\\right) - r \\max\\left(0, - B + q w\\right) - \\left(- b + p \\theta\\right) \\left(\\frac{q \\operatorname{erf}{\\left(\\frac{\\sqrt{2} q}{200} - \\frac{\\sqrt{2}}{2} \\right)}}{2} + \\frac{q}{2} + \\frac{50 \\sqrt{2} e^{\\frac{q}{100}} e^{- \\frac{q^{2}}{20000}}}{\\sqrt{\\pi} e^{\\frac{1}{2}}} - 50 \\operatorname{erf}{\\left(\\frac{\\sqrt{2} q}{200} - \\frac{\\sqrt{2}}{2} \\right)} - 50 \\operatorname{erf}{\\left(\\frac{\\sqrt{2}}{2} \\right)} - \\frac{50 \\sqrt{2}}{\\sqrt{\\pi} e^{\\frac{1}{2}}}\\right)$"
      ],
      "text/plain": [
       "q*(p*theta - w) - r*Max(0, -B + q*w) - (-b + p*theta)*(q*erf(sqrt(2)*q/200 - sqrt(2)/2)/2 + q/2 + 50*sqrt(2)*exp(-1/2)*exp(q/100)*exp(-q**2/20000)/sqrt(pi) - 50*erf(sqrt(2)*q/200 - sqrt(2)/2) - 50*erf(sqrt(2)/2) - 50*sqrt(2)*exp(-1/2)/sqrt(pi))"
      ]
     },
     "execution_count": 126,
     "metadata": {},
     "output_type": "execute_result"
    }
   ],
   "source": [
    "pi_r = q*(p*theta-w) - (p*theta-b)*integrate(cdf(X)(x),(x,0,q)) - Max(0,w*q-B)*r\n",
    "pi_r"
   ]
  },
  {
   "cell_type": "code",
   "execution_count": 127,
   "metadata": {
    "ExecuteTime": {
     "end_time": "2022-01-12T05:40:24.492760Z",
     "start_time": "2022-01-12T05:40:24.469826Z"
    }
   },
   "outputs": [
    {
     "data": {
      "text/latex": [
       "$\\displaystyle - 2.5 q \\operatorname{erf}{\\left(\\frac{\\sqrt{2} q}{200} - \\frac{\\sqrt{2}}{2} \\right)} - 0.5 q - \\frac{250.0 \\sqrt{2} e^{\\frac{q}{100}} e^{- \\frac{q^{2}}{20000}}}{\\sqrt{\\pi} e^{\\frac{1}{2}}} + 250.0 \\operatorname{erf}{\\left(\\frac{\\sqrt{2} q}{200} - \\frac{\\sqrt{2}}{2} \\right)} - 0.05 \\max\\left(0, 6 q - 100\\right) + \\frac{250.0 \\sqrt{2}}{\\sqrt{\\pi} e^{\\frac{1}{2}}} + 250.0 \\operatorname{erf}{\\left(\\frac{\\sqrt{2}}{2} \\right)}$"
      ],
      "text/plain": [
       "-2.5*q*erf(sqrt(2)*q/200 - sqrt(2)/2) - 0.5*q - 250.0*sqrt(2)*exp(-1/2)*exp(q/100)*exp(-q**2/20000)/sqrt(pi) + 250.0*erf(sqrt(2)*q/200 - sqrt(2)/2) - 0.05*Max(0, 6*q - 100) + 250.0*sqrt(2)*exp(-1/2)/sqrt(pi) + 250.0*erf(sqrt(2)/2)"
      ]
     },
     "execution_count": 127,
     "metadata": {},
     "output_type": "execute_result"
    }
   ],
   "source": [
    "pi_r = pi_r.subs(parameter)\n",
    "pi_r"
   ]
  },
  {
   "cell_type": "code",
   "execution_count": 146,
   "metadata": {
    "ExecuteTime": {
     "end_time": "2022-01-12T05:45:37.834122Z",
     "start_time": "2022-01-12T05:45:37.816563Z"
    }
   },
   "outputs": [],
   "source": [
    "def fun(exp):\n",
    "    # 定义np 函数\n",
    "    f = lambdify(q,exp, modules=['numpy', 'sympy'])\n",
    "    # 取出F^{-1}(alpha)\n",
    "    tdf = df_qd_t0.copy()\n",
    "    tdf['f(x)'] = tdf['f(x)'].map(float)\n",
    "    tdf['f(x)'] = tdf['f(x)'].map(f)\n",
    "\n",
    "    # 递增区间的 alpha 值\n",
    "    a = float(df_qd_t_e['x_0'].min())\n",
    "    b = float(df_qd_t_e['x_0'].max())\n",
    "    tdf_e = tdf.query(\"@b >=`x_0`>= @a\").reset_index(drop=True)\n",
    "\n",
    "    return tdf,tdf_e"
   ]
  },
  {
   "cell_type": "code",
   "execution_count": 147,
   "metadata": {
    "ExecuteTime": {
     "end_time": "2022-01-12T05:45:41.517508Z",
     "start_time": "2022-01-12T05:45:39.652971Z"
    }
   },
   "outputs": [],
   "source": [
    "pir,pir_in = fun(pi_r)"
   ]
  },
  {
   "cell_type": "code",
   "execution_count": 152,
   "metadata": {
    "ExecuteTime": {
     "end_time": "2022-01-12T05:46:50.025167Z",
     "start_time": "2022-01-12T05:46:50.013097Z"
    }
   },
   "outputs": [
    {
     "data": {
      "text/html": [
       "<div>\n",
       "<style scoped>\n",
       "    .dataframe tbody tr th:only-of-type {\n",
       "        vertical-align: middle;\n",
       "    }\n",
       "\n",
       "    .dataframe tbody tr th {\n",
       "        vertical-align: top;\n",
       "    }\n",
       "\n",
       "    .dataframe thead th {\n",
       "        text-align: right;\n",
       "    }\n",
       "</style>\n",
       "<table border=\"1\" class=\"dataframe\">\n",
       "  <thead>\n",
       "    <tr style=\"text-align: right;\">\n",
       "      <th></th>\n",
       "      <th>x_0</th>\n",
       "      <th>f(x)</th>\n",
       "    </tr>\n",
       "  </thead>\n",
       "  <tbody>\n",
       "    <tr>\n",
       "      <th>113</th>\n",
       "      <td>0.114</td>\n",
       "      <td>0.815081840147315</td>\n",
       "    </tr>\n",
       "    <tr>\n",
       "      <th>114</th>\n",
       "      <td>0.115</td>\n",
       "      <td>1.74978554990631</td>\n",
       "    </tr>\n",
       "    <tr>\n",
       "      <th>115</th>\n",
       "      <td>0.116</td>\n",
       "      <td>2.67126997925871</td>\n",
       "    </tr>\n",
       "    <tr>\n",
       "      <th>116</th>\n",
       "      <td>0.117</td>\n",
       "      <td>3.57970992549272</td>\n",
       "    </tr>\n",
       "    <tr>\n",
       "      <th>117</th>\n",
       "      <td>0.118</td>\n",
       "      <td>4.47527614433605</td>\n",
       "    </tr>\n",
       "    <tr>\n",
       "      <th>...</th>\n",
       "      <td>...</td>\n",
       "      <td>...</td>\n",
       "    </tr>\n",
       "    <tr>\n",
       "      <th>199</th>\n",
       "      <td>0.200</td>\n",
       "      <td>33.3737851436830</td>\n",
       "    </tr>\n",
       "    <tr>\n",
       "      <th>200</th>\n",
       "      <td>0.201</td>\n",
       "      <td>33.4000556012730</td>\n",
       "    </tr>\n",
       "    <tr>\n",
       "      <th>201</th>\n",
       "      <td>0.202</td>\n",
       "      <td>33.4209756769986</td>\n",
       "    </tr>\n",
       "    <tr>\n",
       "      <th>202</th>\n",
       "      <td>0.203</td>\n",
       "      <td>33.4365807081204</td>\n",
       "    </tr>\n",
       "    <tr>\n",
       "      <th>203</th>\n",
       "      <td>0.204</td>\n",
       "      <td>33.4469055917399</td>\n",
       "    </tr>\n",
       "  </tbody>\n",
       "</table>\n",
       "<p>91 rows × 2 columns</p>\n",
       "</div>"
      ],
      "text/plain": [
       "       x_0               f(x)\n",
       "113  0.114  0.815081840147315\n",
       "114  0.115   1.74978554990631\n",
       "115  0.116   2.67126997925871\n",
       "116  0.117   3.57970992549272\n",
       "117  0.118   4.47527614433605\n",
       "..     ...                ...\n",
       "199  0.200   33.3737851436830\n",
       "200  0.201   33.4000556012730\n",
       "201  0.202   33.4209756769986\n",
       "202  0.203   33.4365807081204\n",
       "203  0.204   33.4469055917399\n",
       "\n",
       "[91 rows x 2 columns]"
      ]
     },
     "execution_count": 152,
     "metadata": {},
     "output_type": "execute_result"
    }
   ],
   "source": [
    "a = float(df_qd_t_e['x_0'].min())\n",
    "b = float(df_qd_t_e['x_0'].max())\n",
    "pir.query(\"@b >=`x_0`>= @a\")"
   ]
  },
  {
   "cell_type": "code",
   "execution_count": 153,
   "metadata": {
    "ExecuteTime": {
     "end_time": "2022-01-12T05:46:53.340445Z",
     "start_time": "2022-01-12T05:46:53.322821Z"
    }
   },
   "outputs": [
    {
     "data": {
      "text/html": [
       "<div>\n",
       "<style scoped>\n",
       "    .dataframe tbody tr th:only-of-type {\n",
       "        vertical-align: middle;\n",
       "    }\n",
       "\n",
       "    .dataframe tbody tr th {\n",
       "        vertical-align: top;\n",
       "    }\n",
       "\n",
       "    .dataframe thead th {\n",
       "        text-align: right;\n",
       "    }\n",
       "</style>\n",
       "<table border=\"1\" class=\"dataframe\">\n",
       "  <thead>\n",
       "    <tr style=\"text-align: right;\">\n",
       "      <th></th>\n",
       "      <th>x_0</th>\n",
       "      <th>f(x)</th>\n",
       "    </tr>\n",
       "  </thead>\n",
       "  <tbody>\n",
       "    <tr>\n",
       "      <th>0</th>\n",
       "      <td>0.114</td>\n",
       "      <td>0.815081840147315</td>\n",
       "    </tr>\n",
       "    <tr>\n",
       "      <th>1</th>\n",
       "      <td>0.115</td>\n",
       "      <td>1.74978554990631</td>\n",
       "    </tr>\n",
       "    <tr>\n",
       "      <th>2</th>\n",
       "      <td>0.116</td>\n",
       "      <td>2.67126997925871</td>\n",
       "    </tr>\n",
       "    <tr>\n",
       "      <th>3</th>\n",
       "      <td>0.117</td>\n",
       "      <td>3.57970992549272</td>\n",
       "    </tr>\n",
       "    <tr>\n",
       "      <th>4</th>\n",
       "      <td>0.118</td>\n",
       "      <td>4.47527614433605</td>\n",
       "    </tr>\n",
       "    <tr>\n",
       "      <th>...</th>\n",
       "      <td>...</td>\n",
       "      <td>...</td>\n",
       "    </tr>\n",
       "    <tr>\n",
       "      <th>86</th>\n",
       "      <td>0.200</td>\n",
       "      <td>33.3737851436830</td>\n",
       "    </tr>\n",
       "    <tr>\n",
       "      <th>87</th>\n",
       "      <td>0.201</td>\n",
       "      <td>33.4000556012730</td>\n",
       "    </tr>\n",
       "    <tr>\n",
       "      <th>88</th>\n",
       "      <td>0.202</td>\n",
       "      <td>33.4209756769986</td>\n",
       "    </tr>\n",
       "    <tr>\n",
       "      <th>89</th>\n",
       "      <td>0.203</td>\n",
       "      <td>33.4365807081204</td>\n",
       "    </tr>\n",
       "    <tr>\n",
       "      <th>90</th>\n",
       "      <td>0.204</td>\n",
       "      <td>33.4469055917399</td>\n",
       "    </tr>\n",
       "  </tbody>\n",
       "</table>\n",
       "<p>91 rows × 2 columns</p>\n",
       "</div>"
      ],
      "text/plain": [
       "      x_0               f(x)\n",
       "0   0.114  0.815081840147315\n",
       "1   0.115   1.74978554990631\n",
       "2   0.116   2.67126997925871\n",
       "3   0.117   3.57970992549272\n",
       "4   0.118   4.47527614433605\n",
       "..    ...                ...\n",
       "86  0.200   33.3737851436830\n",
       "87  0.201   33.4000556012730\n",
       "88  0.202   33.4209756769986\n",
       "89  0.203   33.4365807081204\n",
       "90  0.204   33.4469055917399\n",
       "\n",
       "[91 rows x 2 columns]"
      ]
     },
     "execution_count": 153,
     "metadata": {},
     "output_type": "execute_result"
    }
   ],
   "source": [
    "pir_in"
   ]
  },
  {
   "cell_type": "code",
   "execution_count": 136,
   "metadata": {
    "ExecuteTime": {
     "end_time": "2022-01-12T05:41:16.072713Z",
     "start_time": "2022-01-12T05:41:16.056755Z"
    }
   },
   "outputs": [],
   "source": [
    "pir.iloc[::20].to_csv(\"pir\",index=None,sep='\\t')\n",
    "pir_in[::20].to_csv(\"pir_in\",index=None,sep='\\t')"
   ]
  },
  {
   "cell_type": "code",
   "execution_count": 114,
   "metadata": {
    "ExecuteTime": {
     "end_time": "2022-01-12T05:35:42.575262Z",
     "start_time": "2022-01-12T05:35:42.557310Z"
    }
   },
   "outputs": [
    {
     "data": {
      "text/html": [
       "<div>\n",
       "<style scoped>\n",
       "    .dataframe tbody tr th:only-of-type {\n",
       "        vertical-align: middle;\n",
       "    }\n",
       "\n",
       "    .dataframe tbody tr th {\n",
       "        vertical-align: top;\n",
       "    }\n",
       "\n",
       "    .dataframe thead th {\n",
       "        text-align: right;\n",
       "    }\n",
       "</style>\n",
       "<table border=\"1\" class=\"dataframe\">\n",
       "  <thead>\n",
       "    <tr style=\"text-align: right;\">\n",
       "      <th></th>\n",
       "      <th>x_0</th>\n",
       "      <th>f(x)</th>\n",
       "    </tr>\n",
       "  </thead>\n",
       "  <tbody>\n",
       "    <tr>\n",
       "      <th>0</th>\n",
       "      <td>0.114</td>\n",
       "      <td>1.20065429820468</td>\n",
       "    </tr>\n",
       "    <tr>\n",
       "      <th>30</th>\n",
       "      <td>0.144</td>\n",
       "      <td>21.8064410581165</td>\n",
       "    </tr>\n",
       "    <tr>\n",
       "      <th>60</th>\n",
       "      <td>0.174</td>\n",
       "      <td>30.3213691729654</td>\n",
       "    </tr>\n",
       "    <tr>\n",
       "      <th>90</th>\n",
       "      <td>0.204</td>\n",
       "      <td>33.4244665350098</td>\n",
       "    </tr>\n",
       "  </tbody>\n",
       "</table>\n",
       "</div>"
      ],
      "text/plain": [
       "      x_0              f(x)\n",
       "0   0.114  1.20065429820468\n",
       "30  0.144  21.8064410581165\n",
       "60  0.174  30.3213691729654\n",
       "90  0.204  33.4244665350098"
      ]
     },
     "execution_count": 114,
     "metadata": {},
     "output_type": "execute_result"
    }
   ],
   "source": [
    "pir_in[::30]"
   ]
  },
  {
   "cell_type": "code",
   "execution_count": null,
   "metadata": {},
   "outputs": [],
   "source": []
  },
  {
   "cell_type": "code",
   "execution_count": null,
   "metadata": {},
   "outputs": [],
   "source": []
  },
  {
   "cell_type": "code",
   "execution_count": null,
   "metadata": {},
   "outputs": [],
   "source": []
  },
  {
   "cell_type": "markdown",
   "metadata": {},
   "source": [
    "# Manufacturer's Profit\n",
    "$\\pi_{s}=q[(1-\\theta) p+w-c]-[(1-\\theta) p-s+b] \\int_{0}^{q} F(x) d x$"
   ]
  },
  {
   "cell_type": "code",
   "execution_count": 154,
   "metadata": {
    "ExecuteTime": {
     "end_time": "2022-01-12T05:47:01.561965Z",
     "start_time": "2022-01-12T05:47:01.545401Z"
    }
   },
   "outputs": [],
   "source": [
    "p, w, c, s, B, b, r, alpha, theta, q, a, x, r, mu, sigma, y = symbols(\n",
    "    \"p,w,c,s,B,b,r,alpha,theta,q,a,x,r,mu,sigma,y\")"
   ]
  },
  {
   "cell_type": "code",
   "execution_count": 155,
   "metadata": {
    "ExecuteTime": {
     "end_time": "2022-01-12T05:47:02.210549Z",
     "start_time": "2022-01-12T05:47:01.834981Z"
    }
   },
   "outputs": [
    {
     "data": {
      "text/latex": [
       "$\\displaystyle q \\left(- c + p \\left(1 - \\theta\\right) + w\\right) - \\left(b + p \\left(1 - \\theta\\right) - s\\right) \\left(\\frac{q \\operatorname{erf}{\\left(\\frac{\\sqrt{2} q}{200} - \\frac{\\sqrt{2}}{2} \\right)}}{2} + \\frac{q}{2} + \\frac{50 \\sqrt{2} e^{\\frac{q}{100}} e^{- \\frac{q^{2}}{20000}}}{\\sqrt{\\pi} e^{\\frac{1}{2}}} - 50 \\operatorname{erf}{\\left(\\frac{\\sqrt{2} q}{200} - \\frac{\\sqrt{2}}{2} \\right)} - 50 \\operatorname{erf}{\\left(\\frac{\\sqrt{2}}{2} \\right)} - \\frac{50 \\sqrt{2}}{\\sqrt{\\pi} e^{\\frac{1}{2}}}\\right)$"
      ],
      "text/plain": [
       "q*(-c + p*(1 - theta) + w) - (b + p*(1 - theta) - s)*(q*erf(sqrt(2)*q/200 - sqrt(2)/2)/2 + q/2 + 50*sqrt(2)*exp(-1/2)*exp(q/100)*exp(-q**2/20000)/sqrt(pi) - 50*erf(sqrt(2)*q/200 - sqrt(2)/2) - 50*erf(sqrt(2)/2) - 50*sqrt(2)*exp(-1/2)/sqrt(pi))"
      ]
     },
     "execution_count": 155,
     "metadata": {},
     "output_type": "execute_result"
    }
   ],
   "source": [
    "pi_s = q*((1-theta)*p+ w -c) - ((1-theta)*p - s + b)*integrate(cdf(X)(x),(x,0,q))\n",
    "pi_s"
   ]
  },
  {
   "cell_type": "code",
   "execution_count": 156,
   "metadata": {
    "ExecuteTime": {
     "end_time": "2022-01-12T05:47:02.226083Z",
     "start_time": "2022-01-12T05:47:02.212136Z"
    }
   },
   "outputs": [],
   "source": [
    "parameter = {p: 10, c: 4, s: 3, w: 6, theta: 0.8, b: 3,\n",
    "             B: 100, r: 0.05, mu: 100, sigma: 100}"
   ]
  },
  {
   "cell_type": "code",
   "execution_count": 157,
   "metadata": {
    "ExecuteTime": {
     "end_time": "2022-01-12T05:47:02.929075Z",
     "start_time": "2022-01-12T05:47:02.913038Z"
    }
   },
   "outputs": [
    {
     "data": {
      "text/latex": [
       "$\\displaystyle - 1.0 q \\operatorname{erf}{\\left(\\frac{\\sqrt{2} q}{200} - \\frac{\\sqrt{2}}{2} \\right)} + 3.0 q - \\frac{100.0 \\sqrt{2} e^{\\frac{q}{100}} e^{- \\frac{q^{2}}{20000}}}{\\sqrt{\\pi} e^{\\frac{1}{2}}} + 100.0 \\operatorname{erf}{\\left(\\frac{\\sqrt{2} q}{200} - \\frac{\\sqrt{2}}{2} \\right)} + \\frac{100.0 \\sqrt{2}}{\\sqrt{\\pi} e^{\\frac{1}{2}}} + 100.0 \\operatorname{erf}{\\left(\\frac{\\sqrt{2}}{2} \\right)}$"
      ],
      "text/plain": [
       "-1.0*q*erf(sqrt(2)*q/200 - sqrt(2)/2) + 3.0*q - 100.0*sqrt(2)*exp(-1/2)*exp(q/100)*exp(-q**2/20000)/sqrt(pi) + 100.0*erf(sqrt(2)*q/200 - sqrt(2)/2) + 100.0*sqrt(2)*exp(-1/2)/sqrt(pi) + 100.0*erf(sqrt(2)/2)"
      ]
     },
     "execution_count": 157,
     "metadata": {},
     "output_type": "execute_result"
    }
   ],
   "source": [
    "pi_s = pi_s.subs(parameter)\n",
    "pi_s"
   ]
  },
  {
   "cell_type": "code",
   "execution_count": 158,
   "metadata": {
    "ExecuteTime": {
     "end_time": "2022-01-12T05:47:04.143943Z",
     "start_time": "2022-01-12T05:47:04.125997Z"
    }
   },
   "outputs": [
    {
     "data": {
      "text/latex": [
       "$\\displaystyle 204.0$"
      ],
      "text/plain": [
       "204."
      ]
     },
     "execution_count": 158,
     "metadata": {},
     "output_type": "execute_result"
    }
   ],
   "source": [
    "pi_s.subs({q:58}).evalf(3)"
   ]
  },
  {
   "cell_type": "code",
   "execution_count": 159,
   "metadata": {
    "ExecuteTime": {
     "end_time": "2022-01-12T05:47:06.723076Z",
     "start_time": "2022-01-12T05:47:04.514396Z"
    }
   },
   "outputs": [],
   "source": [
    "pis,pis_in = fun(pi_s)"
   ]
  },
  {
   "cell_type": "code",
   "execution_count": 163,
   "metadata": {
    "ExecuteTime": {
     "end_time": "2022-01-12T05:47:39.930108Z",
     "start_time": "2022-01-12T05:47:39.915115Z"
    }
   },
   "outputs": [
    {
     "data": {
      "text/html": [
       "<div>\n",
       "<style scoped>\n",
       "    .dataframe tbody tr th:only-of-type {\n",
       "        vertical-align: middle;\n",
       "    }\n",
       "\n",
       "    .dataframe tbody tr th {\n",
       "        vertical-align: top;\n",
       "    }\n",
       "\n",
       "    .dataframe thead th {\n",
       "        text-align: right;\n",
       "    }\n",
       "</style>\n",
       "<table border=\"1\" class=\"dataframe\">\n",
       "  <thead>\n",
       "    <tr style=\"text-align: right;\">\n",
       "      <th></th>\n",
       "      <th>x_0</th>\n",
       "      <th>f(x)</th>\n",
       "    </tr>\n",
       "  </thead>\n",
       "  <tbody>\n",
       "    <tr>\n",
       "      <th>0</th>\n",
       "      <td>0.001</td>\n",
       "      <td>-1122.87440061855</td>\n",
       "    </tr>\n",
       "    <tr>\n",
       "      <th>1</th>\n",
       "      <td>0.002</td>\n",
       "      <td>-994.354500388701</td>\n",
       "    </tr>\n",
       "    <tr>\n",
       "      <th>2</th>\n",
       "      <td>0.003</td>\n",
       "      <td>-915.348330120842</td>\n",
       "    </tr>\n",
       "    <tr>\n",
       "      <th>3</th>\n",
       "      <td>0.004</td>\n",
       "      <td>-857.357779547209</td>\n",
       "    </tr>\n",
       "    <tr>\n",
       "      <th>4</th>\n",
       "      <td>0.005</td>\n",
       "      <td>-811.171920467341</td>\n",
       "    </tr>\n",
       "    <tr>\n",
       "      <th>...</th>\n",
       "      <td>...</td>\n",
       "      <td>...</td>\n",
       "    </tr>\n",
       "    <tr>\n",
       "      <th>994</th>\n",
       "      <td>0.995</td>\n",
       "      <td>1363.88405259483</td>\n",
       "    </tr>\n",
       "    <tr>\n",
       "      <th>995</th>\n",
       "      <td>0.996</td>\n",
       "      <td>1386.98725488266</td>\n",
       "    </tr>\n",
       "    <tr>\n",
       "      <th>996</th>\n",
       "      <td>0.997</td>\n",
       "      <td>1415.99077578988</td>\n",
       "    </tr>\n",
       "    <tr>\n",
       "      <th>997</th>\n",
       "      <td>0.998</td>\n",
       "      <td>1455.49998104413</td>\n",
       "    </tr>\n",
       "    <tr>\n",
       "      <th>998</th>\n",
       "      <td>0.999</td>\n",
       "      <td>1519.76379236163</td>\n",
       "    </tr>\n",
       "  </tbody>\n",
       "</table>\n",
       "<p>999 rows × 2 columns</p>\n",
       "</div>"
      ],
      "text/plain": [
       "       x_0               f(x)\n",
       "0    0.001  -1122.87440061855\n",
       "1    0.002  -994.354500388701\n",
       "2    0.003  -915.348330120842\n",
       "3    0.004  -857.357779547209\n",
       "4    0.005  -811.171920467341\n",
       "..     ...                ...\n",
       "994  0.995   1363.88405259483\n",
       "995  0.996   1386.98725488266\n",
       "996  0.997   1415.99077578988\n",
       "997  0.998   1455.49998104413\n",
       "998  0.999   1519.76379236163\n",
       "\n",
       "[999 rows x 2 columns]"
      ]
     },
     "execution_count": 163,
     "metadata": {},
     "output_type": "execute_result"
    }
   ],
   "source": [
    "pis"
   ]
  },
  {
   "cell_type": "code",
   "execution_count": 164,
   "metadata": {
    "ExecuteTime": {
     "end_time": "2022-01-12T05:47:40.946402Z",
     "start_time": "2022-01-12T05:47:40.927397Z"
    }
   },
   "outputs": [
    {
     "data": {
      "text/html": [
       "<div>\n",
       "<style scoped>\n",
       "    .dataframe tbody tr th:only-of-type {\n",
       "        vertical-align: middle;\n",
       "    }\n",
       "\n",
       "    .dataframe tbody tr th {\n",
       "        vertical-align: top;\n",
       "    }\n",
       "\n",
       "    .dataframe thead th {\n",
       "        text-align: right;\n",
       "    }\n",
       "</style>\n",
       "<table border=\"1\" class=\"dataframe\">\n",
       "  <thead>\n",
       "    <tr style=\"text-align: right;\">\n",
       "      <th></th>\n",
       "      <th>x_0</th>\n",
       "      <th>f(x)</th>\n",
       "    </tr>\n",
       "  </thead>\n",
       "  <tbody>\n",
       "    <tr>\n",
       "      <th>0</th>\n",
       "      <td>0.114</td>\n",
       "      <td>2.49485893120189</td>\n",
       "    </tr>\n",
       "    <tr>\n",
       "      <th>1</th>\n",
       "      <td>0.115</td>\n",
       "      <td>5.37440729590986</td>\n",
       "    </tr>\n",
       "    <tr>\n",
       "      <th>2</th>\n",
       "      <td>0.116</td>\n",
       "      <td>8.23322002204219</td>\n",
       "    </tr>\n",
       "    <tr>\n",
       "      <th>3</th>\n",
       "      <td>0.117</td>\n",
       "      <td>11.0716212325375</td>\n",
       "    </tr>\n",
       "    <tr>\n",
       "      <th>4</th>\n",
       "      <td>0.118</td>\n",
       "      <td>13.8899272297056</td>\n",
       "    </tr>\n",
       "    <tr>\n",
       "      <th>...</th>\n",
       "      <td>...</td>\n",
       "      <td>...</td>\n",
       "    </tr>\n",
       "    <tr>\n",
       "      <th>86</th>\n",
       "      <td>0.200</td>\n",
       "      <td>196.655196563219</td>\n",
       "    </tr>\n",
       "    <tr>\n",
       "      <th>87</th>\n",
       "      <td>0.201</td>\n",
       "      <td>198.459794362783</td>\n",
       "    </tr>\n",
       "    <tr>\n",
       "      <th>88</th>\n",
       "      <td>0.202</td>\n",
       "      <td>200.256905479669</td>\n",
       "    </tr>\n",
       "    <tr>\n",
       "      <th>89</th>\n",
       "      <td>0.203</td>\n",
       "      <td>202.046598304663</td>\n",
       "    </tr>\n",
       "    <tr>\n",
       "      <th>90</th>\n",
       "      <td>0.204</td>\n",
       "      <td>203.828940306612</td>\n",
       "    </tr>\n",
       "  </tbody>\n",
       "</table>\n",
       "<p>91 rows × 2 columns</p>\n",
       "</div>"
      ],
      "text/plain": [
       "      x_0              f(x)\n",
       "0   0.114  2.49485893120189\n",
       "1   0.115  5.37440729590986\n",
       "2   0.116  8.23322002204219\n",
       "3   0.117  11.0716212325375\n",
       "4   0.118  13.8899272297056\n",
       "..    ...               ...\n",
       "86  0.200  196.655196563219\n",
       "87  0.201  198.459794362783\n",
       "88  0.202  200.256905479669\n",
       "89  0.203  202.046598304663\n",
       "90  0.204  203.828940306612\n",
       "\n",
       "[91 rows x 2 columns]"
      ]
     },
     "execution_count": 164,
     "metadata": {},
     "output_type": "execute_result"
    }
   ],
   "source": [
    "pis_in"
   ]
  },
  {
   "cell_type": "code",
   "execution_count": 169,
   "metadata": {
    "ExecuteTime": {
     "end_time": "2022-01-12T05:49:30.484305Z",
     "start_time": "2022-01-12T05:49:30.467257Z"
    }
   },
   "outputs": [],
   "source": [
    "pis.iloc[::20].to_csv(\"pis\",index=None,sep='\\t')\n",
    "pis_in.to_csv(\"pis_in\",index=None,sep='\\t')"
   ]
  },
  {
   "cell_type": "code",
   "execution_count": 176,
   "metadata": {
    "ExecuteTime": {
     "end_time": "2022-01-12T05:54:06.147880Z",
     "start_time": "2022-01-12T05:54:06.125927Z"
    }
   },
   "outputs": [
    {
     "data": {
      "text/html": [
       "<div>\n",
       "<style scoped>\n",
       "    .dataframe tbody tr th:only-of-type {\n",
       "        vertical-align: middle;\n",
       "    }\n",
       "\n",
       "    .dataframe tbody tr th {\n",
       "        vertical-align: top;\n",
       "    }\n",
       "\n",
       "    .dataframe thead th {\n",
       "        text-align: right;\n",
       "    }\n",
       "</style>\n",
       "<table border=\"1\" class=\"dataframe\">\n",
       "  <thead>\n",
       "    <tr style=\"text-align: right;\">\n",
       "      <th></th>\n",
       "      <th>x_0</th>\n",
       "      <th>f(x)</th>\n",
       "    </tr>\n",
       "  </thead>\n",
       "  <tbody>\n",
       "    <tr>\n",
       "      <th>112</th>\n",
       "      <td>0.113</td>\n",
       "      <td>-0.405757281989821</td>\n",
       "    </tr>\n",
       "  </tbody>\n",
       "</table>\n",
       "</div>"
      ],
      "text/plain": [
       "       x_0                f(x)\n",
       "112  0.113  -0.405757281989821"
      ]
     },
     "execution_count": 176,
     "metadata": {},
     "output_type": "execute_result"
    }
   ],
   "source": [
    "pis.query(\"`x_0` == 0.113 \")"
   ]
  },
  {
   "cell_type": "code",
   "execution_count": null,
   "metadata": {},
   "outputs": [],
   "source": []
  },
  {
   "cell_type": "code",
   "execution_count": null,
   "metadata": {},
   "outputs": [],
   "source": []
  },
  {
   "cell_type": "code",
   "execution_count": null,
   "metadata": {},
   "outputs": [],
   "source": []
  },
  {
   "cell_type": "code",
   "execution_count": null,
   "metadata": {},
   "outputs": [],
   "source": []
  },
  {
   "cell_type": "code",
   "execution_count": null,
   "metadata": {},
   "outputs": [],
   "source": []
  },
  {
   "cell_type": "code",
   "execution_count": null,
   "metadata": {},
   "outputs": [],
   "source": []
  },
  {
   "cell_type": "code",
   "execution_count": null,
   "metadata": {},
   "outputs": [],
   "source": []
  },
  {
   "cell_type": "markdown",
   "metadata": {},
   "source": [
    "- some help fun() note here."
   ]
  },
  {
   "cell_type": "code",
   "execution_count": 5,
   "metadata": {},
   "outputs": [],
   "source": [
    "## note here\n",
    "## Given a value, calculate the cumulative probability\n",
    "value = 0\n",
    "cdf(X)(value).evalf()\n",
    "## Given a value, calculate the cumulative probability\n",
    "value = 189.380\n",
    "P(X < value).evalf(subs=parameter)"
   ]
  }
 ],
 "metadata": {
  "kernelspec": {
   "display_name": "Python 3",
   "language": "python",
   "name": "python3"
  },
  "language_info": {
   "codemirror_mode": {
    "name": "ipython",
    "version": 3
   },
   "file_extension": ".py",
   "mimetype": "text/x-python",
   "name": "python",
   "nbconvert_exporter": "python",
   "pygments_lexer": "ipython3",
   "version": "3.6.5"
  },
  "latex_envs": {
   "LaTeX_envs_menu_present": true,
   "autoclose": false,
   "autocomplete": true,
   "bibliofile": "biblio.bib",
   "cite_by": "apalike",
   "current_citInitial": 1,
   "eqLabelWithNumbers": true,
   "eqNumInitial": 1,
   "hotkeys": {
    "equation": "Ctrl-E",
    "itemize": "Ctrl-I"
   },
   "labels_anchors": false,
   "latex_user_defs": false,
   "report_style_numbering": false,
   "user_envs_cfg": false
  }
 },
 "nbformat": 4,
 "nbformat_minor": 4
}
